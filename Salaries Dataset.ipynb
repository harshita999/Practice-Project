{
 "cells": [
  {
   "cell_type": "markdown",
   "id": "116c8dd5",
   "metadata": {},
   "source": [
    "# Salaries Dataset"
   ]
  },
  {
   "cell_type": "code",
   "execution_count": 1,
   "id": "47c3d570",
   "metadata": {},
   "outputs": [],
   "source": [
    "import pandas as pd\n",
    "import numpy as np"
   ]
  },
  {
   "cell_type": "code",
   "execution_count": 2,
   "id": "a02e9065",
   "metadata": {},
   "outputs": [
    {
     "data": {
      "text/html": [
       "<div>\n",
       "<style scoped>\n",
       "    .dataframe tbody tr th:only-of-type {\n",
       "        vertical-align: middle;\n",
       "    }\n",
       "\n",
       "    .dataframe tbody tr th {\n",
       "        vertical-align: top;\n",
       "    }\n",
       "\n",
       "    .dataframe thead th {\n",
       "        text-align: right;\n",
       "    }\n",
       "</style>\n",
       "<table border=\"1\" class=\"dataframe\">\n",
       "  <thead>\n",
       "    <tr style=\"text-align: right;\">\n",
       "      <th></th>\n",
       "      <th>rank</th>\n",
       "      <th>discipline</th>\n",
       "      <th>yrs.since.phd</th>\n",
       "      <th>yrs.service</th>\n",
       "      <th>sex</th>\n",
       "      <th>salary</th>\n",
       "    </tr>\n",
       "  </thead>\n",
       "  <tbody>\n",
       "    <tr>\n",
       "      <th>0</th>\n",
       "      <td>Prof</td>\n",
       "      <td>B</td>\n",
       "      <td>19</td>\n",
       "      <td>18</td>\n",
       "      <td>Male</td>\n",
       "      <td>139750</td>\n",
       "    </tr>\n",
       "    <tr>\n",
       "      <th>1</th>\n",
       "      <td>Prof</td>\n",
       "      <td>B</td>\n",
       "      <td>20</td>\n",
       "      <td>16</td>\n",
       "      <td>Male</td>\n",
       "      <td>173200</td>\n",
       "    </tr>\n",
       "    <tr>\n",
       "      <th>2</th>\n",
       "      <td>AsstProf</td>\n",
       "      <td>B</td>\n",
       "      <td>4</td>\n",
       "      <td>3</td>\n",
       "      <td>Male</td>\n",
       "      <td>79750</td>\n",
       "    </tr>\n",
       "    <tr>\n",
       "      <th>3</th>\n",
       "      <td>Prof</td>\n",
       "      <td>B</td>\n",
       "      <td>45</td>\n",
       "      <td>39</td>\n",
       "      <td>Male</td>\n",
       "      <td>115000</td>\n",
       "    </tr>\n",
       "    <tr>\n",
       "      <th>4</th>\n",
       "      <td>Prof</td>\n",
       "      <td>B</td>\n",
       "      <td>40</td>\n",
       "      <td>41</td>\n",
       "      <td>Male</td>\n",
       "      <td>141500</td>\n",
       "    </tr>\n",
       "    <tr>\n",
       "      <th>...</th>\n",
       "      <td>...</td>\n",
       "      <td>...</td>\n",
       "      <td>...</td>\n",
       "      <td>...</td>\n",
       "      <td>...</td>\n",
       "      <td>...</td>\n",
       "    </tr>\n",
       "    <tr>\n",
       "      <th>392</th>\n",
       "      <td>Prof</td>\n",
       "      <td>A</td>\n",
       "      <td>33</td>\n",
       "      <td>30</td>\n",
       "      <td>Male</td>\n",
       "      <td>103106</td>\n",
       "    </tr>\n",
       "    <tr>\n",
       "      <th>393</th>\n",
       "      <td>Prof</td>\n",
       "      <td>A</td>\n",
       "      <td>31</td>\n",
       "      <td>19</td>\n",
       "      <td>Male</td>\n",
       "      <td>150564</td>\n",
       "    </tr>\n",
       "    <tr>\n",
       "      <th>394</th>\n",
       "      <td>Prof</td>\n",
       "      <td>A</td>\n",
       "      <td>42</td>\n",
       "      <td>25</td>\n",
       "      <td>Male</td>\n",
       "      <td>101738</td>\n",
       "    </tr>\n",
       "    <tr>\n",
       "      <th>395</th>\n",
       "      <td>Prof</td>\n",
       "      <td>A</td>\n",
       "      <td>25</td>\n",
       "      <td>15</td>\n",
       "      <td>Male</td>\n",
       "      <td>95329</td>\n",
       "    </tr>\n",
       "    <tr>\n",
       "      <th>396</th>\n",
       "      <td>AsstProf</td>\n",
       "      <td>A</td>\n",
       "      <td>8</td>\n",
       "      <td>4</td>\n",
       "      <td>Male</td>\n",
       "      <td>81035</td>\n",
       "    </tr>\n",
       "  </tbody>\n",
       "</table>\n",
       "<p>397 rows × 6 columns</p>\n",
       "</div>"
      ],
      "text/plain": [
       "         rank discipline  yrs.since.phd  yrs.service   sex  salary\n",
       "0        Prof          B             19           18  Male  139750\n",
       "1        Prof          B             20           16  Male  173200\n",
       "2    AsstProf          B              4            3  Male   79750\n",
       "3        Prof          B             45           39  Male  115000\n",
       "4        Prof          B             40           41  Male  141500\n",
       "..        ...        ...            ...          ...   ...     ...\n",
       "392      Prof          A             33           30  Male  103106\n",
       "393      Prof          A             31           19  Male  150564\n",
       "394      Prof          A             42           25  Male  101738\n",
       "395      Prof          A             25           15  Male   95329\n",
       "396  AsstProf          A              8            4  Male   81035\n",
       "\n",
       "[397 rows x 6 columns]"
      ]
     },
     "execution_count": 2,
     "metadata": {},
     "output_type": "execute_result"
    }
   ],
   "source": [
    "df=pd.read_csv('salaries.csv')\n",
    "df"
   ]
  },
  {
   "cell_type": "code",
   "execution_count": 3,
   "id": "fd55f64b",
   "metadata": {},
   "outputs": [
    {
     "data": {
      "text/html": [
       "<div>\n",
       "<style scoped>\n",
       "    .dataframe tbody tr th:only-of-type {\n",
       "        vertical-align: middle;\n",
       "    }\n",
       "\n",
       "    .dataframe tbody tr th {\n",
       "        vertical-align: top;\n",
       "    }\n",
       "\n",
       "    .dataframe thead th {\n",
       "        text-align: right;\n",
       "    }\n",
       "</style>\n",
       "<table border=\"1\" class=\"dataframe\">\n",
       "  <thead>\n",
       "    <tr style=\"text-align: right;\">\n",
       "      <th></th>\n",
       "      <th>rank</th>\n",
       "      <th>discipline</th>\n",
       "      <th>yrs.since.phd</th>\n",
       "      <th>yrs.service</th>\n",
       "      <th>sex</th>\n",
       "      <th>salary</th>\n",
       "    </tr>\n",
       "  </thead>\n",
       "  <tbody>\n",
       "    <tr>\n",
       "      <th>3</th>\n",
       "      <td>Prof</td>\n",
       "      <td>B</td>\n",
       "      <td>45</td>\n",
       "      <td>39</td>\n",
       "      <td>Male</td>\n",
       "      <td>115000</td>\n",
       "    </tr>\n",
       "    <tr>\n",
       "      <th>46</th>\n",
       "      <td>Prof</td>\n",
       "      <td>B</td>\n",
       "      <td>40</td>\n",
       "      <td>28</td>\n",
       "      <td>Male</td>\n",
       "      <td>98193</td>\n",
       "    </tr>\n",
       "    <tr>\n",
       "      <th>343</th>\n",
       "      <td>Prof</td>\n",
       "      <td>B</td>\n",
       "      <td>31</td>\n",
       "      <td>31</td>\n",
       "      <td>Male</td>\n",
       "      <td>162150</td>\n",
       "    </tr>\n",
       "  </tbody>\n",
       "</table>\n",
       "</div>"
      ],
      "text/plain": [
       "     rank discipline  yrs.since.phd  yrs.service   sex  salary\n",
       "3    Prof          B             45           39  Male  115000\n",
       "46   Prof          B             40           28  Male   98193\n",
       "343  Prof          B             31           31  Male  162150"
      ]
     },
     "execution_count": 3,
     "metadata": {},
     "output_type": "execute_result"
    }
   ],
   "source": [
    "df.sample(3)   #chooses the sample at random from the data"
   ]
  },
  {
   "cell_type": "code",
   "execution_count": 4,
   "id": "164ef262",
   "metadata": {},
   "outputs": [
    {
     "data": {
      "text/plain": [
       "Index(['rank', 'discipline', 'yrs.since.phd', 'yrs.service', 'sex', 'salary'], dtype='object')"
      ]
     },
     "execution_count": 4,
     "metadata": {},
     "output_type": "execute_result"
    }
   ],
   "source": [
    "df.columns"
   ]
  },
  {
   "cell_type": "code",
   "execution_count": 5,
   "id": "c54a1ea3",
   "metadata": {},
   "outputs": [
    {
     "data": {
      "text/plain": [
       "rank             0\n",
       "discipline       0\n",
       "yrs.since.phd    0\n",
       "yrs.service      0\n",
       "sex              0\n",
       "salary           0\n",
       "dtype: int64"
      ]
     },
     "execution_count": 5,
     "metadata": {},
     "output_type": "execute_result"
    }
   ],
   "source": [
    "df.isnull().sum()    #to check if there are any missing values present in the data"
   ]
  },
  {
   "cell_type": "markdown",
   "id": "a6d3d396",
   "metadata": {},
   "source": [
    "# Exploratory Data Analysis (EDA)"
   ]
  },
  {
   "cell_type": "code",
   "execution_count": 6,
   "id": "fa4a7b0e",
   "metadata": {},
   "outputs": [
    {
     "data": {
      "text/plain": [
       "<AxesSubplot:xlabel='rank', ylabel='salary'>"
      ]
     },
     "execution_count": 6,
     "metadata": {},
     "output_type": "execute_result"
    },
    {
     "data": {
      "image/png": "[encoded data removed]",
      "text/plain": [
       "<Figure size 432x288 with 1 Axes>"
      ]
     },
     "metadata": {
      "needs_background": "light"
     },
     "output_type": "display_data"
    }
   ],
   "source": [
    "import seaborn as sns\n",
    "sns.scatterplot(x='rank',y='salary',data=df)"
   ]
  },
  {
   "cell_type": "code",
   "execution_count": 7,
   "id": "1255e9b6",
   "metadata": {},
   "outputs": [
    {
     "data": {
      "text/plain": [
       "<AxesSubplot:xlabel='discipline', ylabel='salary'>"
      ]
     },
     "execution_count": 7,
     "metadata": {},
     "output_type": "execute_result"
    },
    {
     "data": {
      "image/png": "[encoded data removed]",
      "text/plain": [
       "<Figure size 432x288 with 1 Axes>"
      ]
     },
     "metadata": {
      "needs_background": "light"
     },
     "output_type": "display_data"
    }
   ],
   "source": [
    "sns.scatterplot(x='discipline',y='salary',data=df)"
   ]
  },
  {
   "cell_type": "code",
   "execution_count": 8,
   "id": "052e596c",
   "metadata": {},
   "outputs": [
    {
     "data": {
      "text/plain": [
       "<AxesSubplot:xlabel='yrs.since.phd', ylabel='salary'>"
      ]
     },
     "execution_count": 8,
     "metadata": {},
     "output_type": "execute_result"
    },
    {
     "data": {
      "image/png": "[encoded data removed]",
      "text/plain": [
       "<Figure size 432x288 with 1 Axes>"
      ]
     },
     "metadata": {
      "needs_background": "light"
     },
     "output_type": "display_data"
    }
   ],
   "source": [
    "sns.scatterplot(x='yrs.since.phd',y='salary',data=df)"
   ]
  },
  {
   "cell_type": "code",
   "execution_count": 9,
   "id": "99ff3216",
   "metadata": {},
   "outputs": [
    {
     "data": {
      "text/plain": [
       "<AxesSubplot:xlabel='yrs.service', ylabel='salary'>"
      ]
     },
     "execution_count": 9,
     "metadata": {},
     "output_type": "execute_result"
    },
    {
     "data": {
      "image/png": "[encoded data removed]",
      "text/plain": [
       "<Figure size 432x288 with 1 Axes>"
      ]
     },
     "metadata": {
      "needs_background": "light"
     },
     "output_type": "display_data"
    }
   ],
   "source": [
    "sns.scatterplot(x='yrs.service',y='salary',data=df)"
   ]
  },
  {
   "cell_type": "code",
   "execution_count": 10,
   "id": "a5bbaf73",
   "metadata": {},
   "outputs": [
    {
     "data": {
      "text/plain": [
       "<AxesSubplot:xlabel='yrs.service', ylabel='salary'>"
      ]
     },
     "execution_count": 10,
     "metadata": {},
     "output_type": "execute_result"
    },
    {
     "data": {
      "image/png": "[encoded data removed]",
      "text/plain": [
       "<Figure size 432x288 with 1 Axes>"
      ]
     },
     "metadata": {
      "needs_background": "light"
     },
     "output_type": "display_data"
    }
   ],
   "source": [
    "sns.scatterplot(x='yrs.service',y='salary',data=df)"
   ]
  },
  {
   "cell_type": "code",
   "execution_count": 11,
   "id": "e478c149",
   "metadata": {},
   "outputs": [
    {
     "data": {
      "text/plain": [
       "<seaborn.axisgrid.PairGrid at 0x2f86dcacd30>"
      ]
     },
     "execution_count": 11,
     "metadata": {},
     "output_type": "execute_result"
    },
    {
     "data": {
      "image/png": "[encoded data removed]",
      "text/plain": [
       "<Figure size 540x540 with 12 Axes>"
      ]
     },
     "metadata": {
      "needs_background": "light"
     },
     "output_type": "display_data"
    }
   ],
   "source": [
    "sns.pairplot(df)"
   ]
  },
  {
   "cell_type": "markdown",
   "id": "a818c6fb",
   "metadata": {},
   "source": [
    "# Correlation"
   ]
  },
  {
   "cell_type": "code",
   "execution_count": 12,
   "id": "3a70fcbf",
   "metadata": {},
   "outputs": [
    {
     "data": {
      "text/html": [
       "<div>\n",
       "<style scoped>\n",
       "    .dataframe tbody tr th:only-of-type {\n",
       "        vertical-align: middle;\n",
       "    }\n",
       "\n",
       "    .dataframe tbody tr th {\n",
       "        vertical-align: top;\n",
       "    }\n",
       "\n",
       "    .dataframe thead th {\n",
       "        text-align: right;\n",
       "    }\n",
       "</style>\n",
       "<table border=\"1\" class=\"dataframe\">\n",
       "  <thead>\n",
       "    <tr style=\"text-align: right;\">\n",
       "      <th></th>\n",
       "      <th>yrs.since.phd</th>\n",
       "      <th>yrs.service</th>\n",
       "      <th>salary</th>\n",
       "    </tr>\n",
       "  </thead>\n",
       "  <tbody>\n",
       "    <tr>\n",
       "      <th>yrs.since.phd</th>\n",
       "      <td>1.000000</td>\n",
       "      <td>0.909649</td>\n",
       "      <td>0.419231</td>\n",
       "    </tr>\n",
       "    <tr>\n",
       "      <th>yrs.service</th>\n",
       "      <td>0.909649</td>\n",
       "      <td>1.000000</td>\n",
       "      <td>0.334745</td>\n",
       "    </tr>\n",
       "    <tr>\n",
       "      <th>salary</th>\n",
       "      <td>0.419231</td>\n",
       "      <td>0.334745</td>\n",
       "      <td>1.000000</td>\n",
       "    </tr>\n",
       "  </tbody>\n",
       "</table>\n",
       "</div>"
      ],
      "text/plain": [
       "               yrs.since.phd  yrs.service    salary\n",
       "yrs.since.phd       1.000000     0.909649  0.419231\n",
       "yrs.service         0.909649     1.000000  0.334745\n",
       "salary              0.419231     0.334745  1.000000"
      ]
     },
     "execution_count": 12,
     "metadata": {},
     "output_type": "execute_result"
    }
   ],
   "source": [
    "df.corr()"
   ]
  },
  {
   "cell_type": "code",
   "execution_count": 13,
   "id": "c3b572a0",
   "metadata": {},
   "outputs": [
    {
     "data": {
      "text/plain": [
       "yrs.since.phd    0.419231\n",
       "yrs.service      0.334745\n",
       "salary           1.000000\n",
       "Name: salary, dtype: float64"
      ]
     },
     "execution_count": 13,
     "metadata": {},
     "output_type": "execute_result"
    }
   ],
   "source": [
    "df.corr()['salary']"
   ]
  },
  {
   "cell_type": "code",
   "execution_count": 14,
   "id": "bbe3084e",
   "metadata": {},
   "outputs": [
    {
     "data": {
      "text/plain": [
       "yrs.service      0.334745\n",
       "yrs.since.phd    0.419231\n",
       "salary           1.000000\n",
       "Name: salary, dtype: float64"
      ]
     },
     "execution_count": 14,
     "metadata": {},
     "output_type": "execute_result"
    }
   ],
   "source": [
    "df.corr()['salary'].sort_values()"
   ]
  },
  {
   "cell_type": "code",
   "execution_count": 15,
   "id": "d092f21b",
   "metadata": {},
   "outputs": [
    {
     "data": {
      "text/plain": [
       "<AxesSubplot:>"
      ]
     },
     "execution_count": 15,
     "metadata": {},
     "output_type": "execute_result"
    },
    {
     "data": {
      "image/png": "[encoded data removed]",
      "text/plain": [
       "<Figure size 720x216 with 2 Axes>"
      ]
     },
     "metadata": {
      "needs_background": "light"
     },
     "output_type": "display_data"
    }
   ],
   "source": [
    "import matplotlib.pyplot as plt\n",
    "plt.figure(figsize=(10,3))\n",
    "sns.heatmap(df.corr(),annot=True)"
   ]
  },
  {
   "cell_type": "markdown",
   "id": "db74d611",
   "metadata": {},
   "source": [
    "Outcome of correlation"
   ]
  },
  {
   "cell_type": "markdown",
   "id": "5b9134b1",
   "metadata": {},
   "source": [
    "1. yrs.since.phd has hightest correlation with salary which means they share a strong bond\n",
    "2. yrs.service has the lowest correlation with salary which means they share a weak bond"
   ]
  },
  {
   "cell_type": "markdown",
   "id": "8d26af3d",
   "metadata": {},
   "source": [
    "# Describing dataset"
   ]
  },
  {
   "cell_type": "code",
   "execution_count": 16,
   "id": "28606c4a",
   "metadata": {},
   "outputs": [
    {
     "data": {
      "text/html": [
       "<div>\n",
       "<style scoped>\n",
       "    .dataframe tbody tr th:only-of-type {\n",
       "        vertical-align: middle;\n",
       "    }\n",
       "\n",
       "    .dataframe tbody tr th {\n",
       "        vertical-align: top;\n",
       "    }\n",
       "\n",
       "    .dataframe thead th {\n",
       "        text-align: right;\n",
       "    }\n",
       "</style>\n",
       "<table border=\"1\" class=\"dataframe\">\n",
       "  <thead>\n",
       "    <tr style=\"text-align: right;\">\n",
       "      <th></th>\n",
       "      <th>yrs.since.phd</th>\n",
       "      <th>yrs.service</th>\n",
       "      <th>salary</th>\n",
       "    </tr>\n",
       "  </thead>\n",
       "  <tbody>\n",
       "    <tr>\n",
       "      <th>count</th>\n",
       "      <td>397.000000</td>\n",
       "      <td>397.000000</td>\n",
       "      <td>397.000000</td>\n",
       "    </tr>\n",
       "    <tr>\n",
       "      <th>mean</th>\n",
       "      <td>22.314861</td>\n",
       "      <td>17.614610</td>\n",
       "      <td>113706.458438</td>\n",
       "    </tr>\n",
       "    <tr>\n",
       "      <th>std</th>\n",
       "      <td>12.887003</td>\n",
       "      <td>13.006024</td>\n",
       "      <td>30289.038695</td>\n",
       "    </tr>\n",
       "    <tr>\n",
       "      <th>min</th>\n",
       "      <td>1.000000</td>\n",
       "      <td>0.000000</td>\n",
       "      <td>57800.000000</td>\n",
       "    </tr>\n",
       "    <tr>\n",
       "      <th>25%</th>\n",
       "      <td>12.000000</td>\n",
       "      <td>7.000000</td>\n",
       "      <td>91000.000000</td>\n",
       "    </tr>\n",
       "    <tr>\n",
       "      <th>50%</th>\n",
       "      <td>21.000000</td>\n",
       "      <td>16.000000</td>\n",
       "      <td>107300.000000</td>\n",
       "    </tr>\n",
       "    <tr>\n",
       "      <th>75%</th>\n",
       "      <td>32.000000</td>\n",
       "      <td>27.000000</td>\n",
       "      <td>134185.000000</td>\n",
       "    </tr>\n",
       "    <tr>\n",
       "      <th>max</th>\n",
       "      <td>56.000000</td>\n",
       "      <td>60.000000</td>\n",
       "      <td>231545.000000</td>\n",
       "    </tr>\n",
       "  </tbody>\n",
       "</table>\n",
       "</div>"
      ],
      "text/plain": [
       "       yrs.since.phd  yrs.service         salary\n",
       "count     397.000000   397.000000     397.000000\n",
       "mean       22.314861    17.614610  113706.458438\n",
       "std        12.887003    13.006024   30289.038695\n",
       "min         1.000000     0.000000   57800.000000\n",
       "25%        12.000000     7.000000   91000.000000\n",
       "50%        21.000000    16.000000  107300.000000\n",
       "75%        32.000000    27.000000  134185.000000\n",
       "max        56.000000    60.000000  231545.000000"
      ]
     },
     "execution_count": 16,
     "metadata": {},
     "output_type": "execute_result"
    }
   ],
   "source": [
    "df.describe()"
   ]
  },
  {
   "cell_type": "code",
   "execution_count": 17,
   "id": "f47f7d6d",
   "metadata": {},
   "outputs": [
    {
     "data": {
      "image/png": "[encoded data removed]",
      "text/plain": [
       "<Figure size 720x360 with 2 Axes>"
      ]
     },
     "metadata": {
      "needs_background": "light"
     },
     "output_type": "display_data"
    }
   ],
   "source": [
    "plt.figure(figsize=(10,5))\n",
    "sns.heatmap(round(df.describe()[1:].transpose(),2),linewidth=2,annot=True,fmt='.2f')   #fmt= represnt the number of float characters\n",
    "plt.xticks(fontsize=9)\n",
    "plt.yticks(fontsize=8)\n",
    "plt.title('Variables summary')\n",
    "plt.show()"
   ]
  },
  {
   "cell_type": "code",
   "execution_count": 18,
   "id": "143db60e",
   "metadata": {},
   "outputs": [
    {
     "name": "stdout",
     "output_type": "stream",
     "text": [
      "<class 'pandas.core.frame.DataFrame'>\n",
      "RangeIndex: 397 entries, 0 to 396\n",
      "Data columns (total 6 columns):\n",
      " #   Column         Non-Null Count  Dtype \n",
      "---  ------         --------------  ----- \n",
      " 0   rank           397 non-null    object\n",
      " 1   discipline     397 non-null    object\n",
      " 2   yrs.since.phd  397 non-null    int64 \n",
      " 3   yrs.service    397 non-null    int64 \n",
      " 4   sex            397 non-null    object\n",
      " 5   salary         397 non-null    int64 \n",
      "dtypes: int64(3), object(3)\n",
      "memory usage: 18.7+ KB\n"
     ]
    }
   ],
   "source": [
    "df.info()"
   ]
  },
  {
   "cell_type": "code",
   "execution_count": 19,
   "id": "deefd5e0",
   "metadata": {},
   "outputs": [],
   "source": [
    "import warnings\n",
    "warnings.filterwarnings('ignore')"
   ]
  },
  {
   "cell_type": "code",
   "execution_count": 20,
   "id": "9aac5506",
   "metadata": {},
   "outputs": [
    {
     "data": {
      "text/plain": [
       "yrs.since.phd       AxesSubplot(0.125,0.536818;0.110714x0.343182)\n",
       "yrs.service      AxesSubplot(0.257857,0.536818;0.110714x0.343182)\n",
       "salary           AxesSubplot(0.390714,0.536818;0.110714x0.343182)\n",
       "dtype: object"
      ]
     },
     "execution_count": 20,
     "metadata": {},
     "output_type": "execute_result"
    },
    {
     "data": {
      "image/png": "[encoded data removed]",
      "text/plain": [
       "<Figure size 720x720 with 12 Axes>"
      ]
     },
     "metadata": {
      "needs_background": "light"
     },
     "output_type": "display_data"
    }
   ],
   "source": [
    "df.plot(kind='box',subplots=True,layout=(2,6),figsize=(10,10))"
   ]
  },
  {
   "cell_type": "code",
   "execution_count": 21,
   "id": "e18ba06f",
   "metadata": {
    "scrolled": true
   },
   "outputs": [
    {
     "data": {
      "text/plain": [
       "yrs.since.phd    0.300880\n",
       "yrs.service      0.650569\n",
       "salary           0.714568\n",
       "dtype: float64"
      ]
     },
     "execution_count": 21,
     "metadata": {},
     "output_type": "execute_result"
    }
   ],
   "source": [
    "df.skew()"
   ]
  },
  {
   "cell_type": "code",
   "execution_count": 22,
   "id": "ec25b303",
   "metadata": {},
   "outputs": [
    {
     "data": {
      "text/plain": [
       "<AxesSubplot:>"
      ]
     },
     "execution_count": 22,
     "metadata": {},
     "output_type": "execute_result"
    },
    {
     "data": {
      "image/png": "[encoded data removed]",
      "text/plain": [
       "<Figure size 432x288 with 1 Axes>"
      ]
     },
     "metadata": {
      "needs_background": "light"
     },
     "output_type": "display_data"
    }
   ],
   "source": [
    "sns.boxplot(data=df, color='blue')"
   ]
  },
  {
   "cell_type": "markdown",
   "id": "b9c892be",
   "metadata": {},
   "source": [
    "# Normal Distribution Curve"
   ]
  },
  {
   "cell_type": "code",
   "execution_count": 23,
   "id": "4c19fdcc",
   "metadata": {},
   "outputs": [
    {
     "data": {
      "text/plain": [
       "<AxesSubplot:xlabel='yrs.since.phd', ylabel='Density'>"
      ]
     },
     "execution_count": 23,
     "metadata": {},
     "output_type": "execute_result"
    },
    {
     "data": {
      "image/png": "[encoded data removed]",
      "text/plain": [
       "<Figure size 432x288 with 1 Axes>"
      ]
     },
     "metadata": {
      "needs_background": "light"
     },
     "output_type": "display_data"
    }
   ],
   "source": [
    "sns.distplot(df['yrs.since.phd'])"
   ]
  },
  {
   "cell_type": "code",
   "execution_count": 24,
   "id": "0c9bd2a6",
   "metadata": {},
   "outputs": [
    {
     "data": {
      "text/plain": [
       "<AxesSubplot:xlabel='yrs.service', ylabel='Density'>"
      ]
     },
     "execution_count": 24,
     "metadata": {},
     "output_type": "execute_result"
    },
    {
     "data": {
      "image/png": "[encoded data removed]",
      "text/plain": [
       "<Figure size 432x288 with 1 Axes>"
      ]
     },
     "metadata": {
      "needs_background": "light"
     },
     "output_type": "display_data"
    }
   ],
   "source": [
    "sns.distplot(df['yrs.service'])"
   ]
  },
  {
   "cell_type": "markdown",
   "id": "d405584a",
   "metadata": {},
   "source": [
    "# The normal distribution shows that the data is skewed"
   ]
  },
  {
   "cell_type": "markdown",
   "id": "021daeb0",
   "metadata": {},
   "source": [
    "# Data Cleaning"
   ]
  },
  {
   "cell_type": "code",
   "execution_count": 25,
   "id": "01ac6c3c",
   "metadata": {},
   "outputs": [
    {
     "data": {
      "text/plain": [
       "yrs.since.phd    0.419231\n",
       "yrs.service      0.334745\n",
       "salary           1.000000\n",
       "Name: salary, dtype: float64"
      ]
     },
     "execution_count": 25,
     "metadata": {},
     "output_type": "execute_result"
    }
   ],
   "source": [
    "df.corr()['salary']"
   ]
  },
  {
   "cell_type": "code",
   "execution_count": 26,
   "id": "415e4fc3",
   "metadata": {},
   "outputs": [
    {
     "data": {
      "text/html": [
       "<div>\n",
       "<style scoped>\n",
       "    .dataframe tbody tr th:only-of-type {\n",
       "        vertical-align: middle;\n",
       "    }\n",
       "\n",
       "    .dataframe tbody tr th {\n",
       "        vertical-align: top;\n",
       "    }\n",
       "\n",
       "    .dataframe thead th {\n",
       "        text-align: right;\n",
       "    }\n",
       "</style>\n",
       "<table border=\"1\" class=\"dataframe\">\n",
       "  <thead>\n",
       "    <tr style=\"text-align: right;\">\n",
       "      <th></th>\n",
       "      <th>Column Name</th>\n",
       "      <th>Correlation with target</th>\n",
       "      <th>Normalised</th>\n",
       "      <th>Outliers</th>\n",
       "    </tr>\n",
       "  </thead>\n",
       "  <tbody>\n",
       "    <tr>\n",
       "      <th>0</th>\n",
       "      <td>yrs.service</td>\n",
       "      <td>0.334745</td>\n",
       "      <td>No</td>\n",
       "      <td>Yes</td>\n",
       "    </tr>\n",
       "  </tbody>\n",
       "</table>\n",
       "</div>"
      ],
      "text/plain": [
       "   Column Name Correlation with target Normalised Outliers\n",
       "0  yrs.service                0.334745         No      Yes"
      ]
     },
     "execution_count": 26,
     "metadata": {},
     "output_type": "execute_result"
    }
   ],
   "source": [
    "data=pd.DataFrame([['yrs.service','0.334745','No','Yes']],\n",
    "                  columns=['Column Name','Correlation with target','Normalised','Outliers'])\n",
    "data"
   ]
  },
  {
   "cell_type": "code",
   "execution_count": 27,
   "id": "c453b011",
   "metadata": {},
   "outputs": [
    {
     "data": {
      "text/html": [
       "<div>\n",
       "<style scoped>\n",
       "    .dataframe tbody tr th:only-of-type {\n",
       "        vertical-align: middle;\n",
       "    }\n",
       "\n",
       "    .dataframe tbody tr th {\n",
       "        vertical-align: top;\n",
       "    }\n",
       "\n",
       "    .dataframe thead th {\n",
       "        text-align: right;\n",
       "    }\n",
       "</style>\n",
       "<table border=\"1\" class=\"dataframe\">\n",
       "  <thead>\n",
       "    <tr style=\"text-align: right;\">\n",
       "      <th></th>\n",
       "      <th>rank</th>\n",
       "      <th>discipline</th>\n",
       "      <th>yrs.since.phd</th>\n",
       "      <th>sex</th>\n",
       "      <th>salary</th>\n",
       "    </tr>\n",
       "  </thead>\n",
       "  <tbody>\n",
       "    <tr>\n",
       "      <th>0</th>\n",
       "      <td>Prof</td>\n",
       "      <td>B</td>\n",
       "      <td>19</td>\n",
       "      <td>Male</td>\n",
       "      <td>139750</td>\n",
       "    </tr>\n",
       "    <tr>\n",
       "      <th>1</th>\n",
       "      <td>Prof</td>\n",
       "      <td>B</td>\n",
       "      <td>20</td>\n",
       "      <td>Male</td>\n",
       "      <td>173200</td>\n",
       "    </tr>\n",
       "    <tr>\n",
       "      <th>2</th>\n",
       "      <td>AsstProf</td>\n",
       "      <td>B</td>\n",
       "      <td>4</td>\n",
       "      <td>Male</td>\n",
       "      <td>79750</td>\n",
       "    </tr>\n",
       "    <tr>\n",
       "      <th>3</th>\n",
       "      <td>Prof</td>\n",
       "      <td>B</td>\n",
       "      <td>45</td>\n",
       "      <td>Male</td>\n",
       "      <td>115000</td>\n",
       "    </tr>\n",
       "    <tr>\n",
       "      <th>4</th>\n",
       "      <td>Prof</td>\n",
       "      <td>B</td>\n",
       "      <td>40</td>\n",
       "      <td>Male</td>\n",
       "      <td>141500</td>\n",
       "    </tr>\n",
       "    <tr>\n",
       "      <th>...</th>\n",
       "      <td>...</td>\n",
       "      <td>...</td>\n",
       "      <td>...</td>\n",
       "      <td>...</td>\n",
       "      <td>...</td>\n",
       "    </tr>\n",
       "    <tr>\n",
       "      <th>392</th>\n",
       "      <td>Prof</td>\n",
       "      <td>A</td>\n",
       "      <td>33</td>\n",
       "      <td>Male</td>\n",
       "      <td>103106</td>\n",
       "    </tr>\n",
       "    <tr>\n",
       "      <th>393</th>\n",
       "      <td>Prof</td>\n",
       "      <td>A</td>\n",
       "      <td>31</td>\n",
       "      <td>Male</td>\n",
       "      <td>150564</td>\n",
       "    </tr>\n",
       "    <tr>\n",
       "      <th>394</th>\n",
       "      <td>Prof</td>\n",
       "      <td>A</td>\n",
       "      <td>42</td>\n",
       "      <td>Male</td>\n",
       "      <td>101738</td>\n",
       "    </tr>\n",
       "    <tr>\n",
       "      <th>395</th>\n",
       "      <td>Prof</td>\n",
       "      <td>A</td>\n",
       "      <td>25</td>\n",
       "      <td>Male</td>\n",
       "      <td>95329</td>\n",
       "    </tr>\n",
       "    <tr>\n",
       "      <th>396</th>\n",
       "      <td>AsstProf</td>\n",
       "      <td>A</td>\n",
       "      <td>8</td>\n",
       "      <td>Male</td>\n",
       "      <td>81035</td>\n",
       "    </tr>\n",
       "  </tbody>\n",
       "</table>\n",
       "<p>397 rows × 5 columns</p>\n",
       "</div>"
      ],
      "text/plain": [
       "         rank discipline  yrs.since.phd   sex  salary\n",
       "0        Prof          B             19  Male  139750\n",
       "1        Prof          B             20  Male  173200\n",
       "2    AsstProf          B              4  Male   79750\n",
       "3        Prof          B             45  Male  115000\n",
       "4        Prof          B             40  Male  141500\n",
       "..        ...        ...            ...   ...     ...\n",
       "392      Prof          A             33  Male  103106\n",
       "393      Prof          A             31  Male  150564\n",
       "394      Prof          A             42  Male  101738\n",
       "395      Prof          A             25  Male   95329\n",
       "396  AsstProf          A              8  Male   81035\n",
       "\n",
       "[397 rows x 5 columns]"
      ]
     },
     "execution_count": 27,
     "metadata": {},
     "output_type": "execute_result"
    }
   ],
   "source": [
    "df= df.drop(['yrs.service'],axis=1)\n",
    "df"
   ]
  },
  {
   "cell_type": "code",
   "execution_count": 140,
   "id": "588c74f2",
   "metadata": {},
   "outputs": [],
   "source": [
    "from sklearn.preprocessing import LabelEncoder"
   ]
  },
  {
   "cell_type": "code",
   "execution_count": 144,
   "id": "ac4235f8",
   "metadata": {},
   "outputs": [
    {
     "data": {
      "text/html": [
       "<div>\n",
       "<style scoped>\n",
       "    .dataframe tbody tr th:only-of-type {\n",
       "        vertical-align: middle;\n",
       "    }\n",
       "\n",
       "    .dataframe tbody tr th {\n",
       "        vertical-align: top;\n",
       "    }\n",
       "\n",
       "    .dataframe thead th {\n",
       "        text-align: right;\n",
       "    }\n",
       "</style>\n",
       "<table border=\"1\" class=\"dataframe\">\n",
       "  <thead>\n",
       "    <tr style=\"text-align: right;\">\n",
       "      <th></th>\n",
       "      <th>yrs.since.phd</th>\n",
       "      <th>sex</th>\n",
       "      <th>salary</th>\n",
       "    </tr>\n",
       "  </thead>\n",
       "  <tbody>\n",
       "    <tr>\n",
       "      <th>0</th>\n",
       "      <td>19</td>\n",
       "      <td>1</td>\n",
       "      <td>139750</td>\n",
       "    </tr>\n",
       "    <tr>\n",
       "      <th>1</th>\n",
       "      <td>20</td>\n",
       "      <td>1</td>\n",
       "      <td>173200</td>\n",
       "    </tr>\n",
       "    <tr>\n",
       "      <th>2</th>\n",
       "      <td>4</td>\n",
       "      <td>1</td>\n",
       "      <td>79750</td>\n",
       "    </tr>\n",
       "    <tr>\n",
       "      <th>3</th>\n",
       "      <td>45</td>\n",
       "      <td>1</td>\n",
       "      <td>115000</td>\n",
       "    </tr>\n",
       "    <tr>\n",
       "      <th>4</th>\n",
       "      <td>40</td>\n",
       "      <td>1</td>\n",
       "      <td>141500</td>\n",
       "    </tr>\n",
       "    <tr>\n",
       "      <th>...</th>\n",
       "      <td>...</td>\n",
       "      <td>...</td>\n",
       "      <td>...</td>\n",
       "    </tr>\n",
       "    <tr>\n",
       "      <th>392</th>\n",
       "      <td>33</td>\n",
       "      <td>1</td>\n",
       "      <td>103106</td>\n",
       "    </tr>\n",
       "    <tr>\n",
       "      <th>393</th>\n",
       "      <td>31</td>\n",
       "      <td>1</td>\n",
       "      <td>150564</td>\n",
       "    </tr>\n",
       "    <tr>\n",
       "      <th>394</th>\n",
       "      <td>42</td>\n",
       "      <td>1</td>\n",
       "      <td>101738</td>\n",
       "    </tr>\n",
       "    <tr>\n",
       "      <th>395</th>\n",
       "      <td>25</td>\n",
       "      <td>1</td>\n",
       "      <td>95329</td>\n",
       "    </tr>\n",
       "    <tr>\n",
       "      <th>396</th>\n",
       "      <td>8</td>\n",
       "      <td>1</td>\n",
       "      <td>81035</td>\n",
       "    </tr>\n",
       "  </tbody>\n",
       "</table>\n",
       "<p>397 rows × 3 columns</p>\n",
       "</div>"
      ],
      "text/plain": [
       "     yrs.since.phd  sex  salary\n",
       "0               19    1  139750\n",
       "1               20    1  173200\n",
       "2                4    1   79750\n",
       "3               45    1  115000\n",
       "4               40    1  141500\n",
       "..             ...  ...     ...\n",
       "392             33    1  103106\n",
       "393             31    1  150564\n",
       "394             42    1  101738\n",
       "395             25    1   95329\n",
       "396              8    1   81035\n",
       "\n",
       "[397 rows x 3 columns]"
      ]
     },
     "execution_count": 144,
     "metadata": {},
     "output_type": "execute_result"
    }
   ],
   "source": [
    "le=LabelEncoder()\n",
    "\n",
    "\n",
    "list=['sex']\n",
    "\n",
    "for val in list:\n",
    "    df[val]=le.fit_transform(df[val].astype(str))\n",
    "\n",
    "df"
   ]
  },
  {
   "cell_type": "markdown",
   "id": "d7d24e16",
   "metadata": {},
   "source": [
    "# Removing Outliers"
   ]
  },
  {
   "cell_type": "markdown",
   "id": "4bf495d2",
   "metadata": {},
   "source": [
    "Z-score technique"
   ]
  },
  {
   "cell_type": "code",
   "execution_count": 146,
   "id": "43e43247",
   "metadata": {},
   "outputs": [
    {
     "data": {
      "text/plain": [
       "(397, 3)"
      ]
     },
     "execution_count": 146,
     "metadata": {},
     "output_type": "execute_result"
    }
   ],
   "source": [
    "from scipy.stats import zscore\n",
    "import numpy as np\n",
    "z=np.abs(zscore(df))\n",
    "z.shape"
   ]
  },
  {
   "cell_type": "code",
   "execution_count": 147,
   "id": "eff4ddb4",
   "metadata": {},
   "outputs": [
    {
     "name": "stdout",
     "output_type": "stream",
     "text": [
      "(array([  9,  19,  24,  34,  35,  43,  47,  48,  52,  63,  68,  84,  90,\n",
      "       103, 114, 119, 123, 127, 132, 133, 148, 153, 179, 186, 218, 230,\n",
      "       231, 233, 237, 245, 253, 254, 274, 316, 323, 332, 334, 341, 358,\n",
      "       361, 364], dtype=int64), array([1, 1, 1, 1, 1, 2, 1, 1, 1, 1, 1, 1, 1, 1, 1, 1, 1, 1, 1, 1, 1, 1,\n",
      "       1, 1, 1, 1, 1, 1, 1, 1, 1, 1, 1, 1, 1, 1, 1, 1, 1, 1, 2],\n",
      "      dtype=int64))\n"
     ]
    }
   ],
   "source": [
    "threshold=3\n",
    "#index number\n",
    "print(np.where(z>3))"
   ]
  },
  {
   "cell_type": "code",
   "execution_count": 90,
   "id": "e216d650",
   "metadata": {},
   "outputs": [
    {
     "data": {
      "text/plain": [
       "yrs.since.phd       25\n",
       "sex                  0\n",
       "salary           62884\n",
       "Name: 123, dtype: int64"
      ]
     },
     "execution_count": 90,
     "metadata": {},
     "output_type": "execute_result"
    }
   ],
   "source": [
    "df.iloc[123]"
   ]
  },
  {
   "cell_type": "code",
   "execution_count": 148,
   "id": "3a25172f",
   "metadata": {},
   "outputs": [
    {
     "data": {
      "text/plain": [
       "41"
      ]
     },
     "execution_count": 148,
     "metadata": {},
     "output_type": "execute_result"
    }
   ],
   "source": [
    "len(np.where(z>3)[0])"
   ]
  },
  {
   "cell_type": "code",
   "execution_count": 149,
   "id": "931b9460",
   "metadata": {},
   "outputs": [
    {
     "data": {
      "text/html": [
       "<div>\n",
       "<style scoped>\n",
       "    .dataframe tbody tr th:only-of-type {\n",
       "        vertical-align: middle;\n",
       "    }\n",
       "\n",
       "    .dataframe tbody tr th {\n",
       "        vertical-align: top;\n",
       "    }\n",
       "\n",
       "    .dataframe thead th {\n",
       "        text-align: right;\n",
       "    }\n",
       "</style>\n",
       "<table border=\"1\" class=\"dataframe\">\n",
       "  <thead>\n",
       "    <tr style=\"text-align: right;\">\n",
       "      <th></th>\n",
       "      <th>yrs.since.phd</th>\n",
       "      <th>sex</th>\n",
       "      <th>salary</th>\n",
       "    </tr>\n",
       "  </thead>\n",
       "  <tbody>\n",
       "    <tr>\n",
       "      <th>0</th>\n",
       "      <td>19</td>\n",
       "      <td>1</td>\n",
       "      <td>139750</td>\n",
       "    </tr>\n",
       "    <tr>\n",
       "      <th>1</th>\n",
       "      <td>20</td>\n",
       "      <td>1</td>\n",
       "      <td>173200</td>\n",
       "    </tr>\n",
       "    <tr>\n",
       "      <th>2</th>\n",
       "      <td>4</td>\n",
       "      <td>1</td>\n",
       "      <td>79750</td>\n",
       "    </tr>\n",
       "    <tr>\n",
       "      <th>3</th>\n",
       "      <td>45</td>\n",
       "      <td>1</td>\n",
       "      <td>115000</td>\n",
       "    </tr>\n",
       "    <tr>\n",
       "      <th>4</th>\n",
       "      <td>40</td>\n",
       "      <td>1</td>\n",
       "      <td>141500</td>\n",
       "    </tr>\n",
       "    <tr>\n",
       "      <th>...</th>\n",
       "      <td>...</td>\n",
       "      <td>...</td>\n",
       "      <td>...</td>\n",
       "    </tr>\n",
       "    <tr>\n",
       "      <th>392</th>\n",
       "      <td>33</td>\n",
       "      <td>1</td>\n",
       "      <td>103106</td>\n",
       "    </tr>\n",
       "    <tr>\n",
       "      <th>393</th>\n",
       "      <td>31</td>\n",
       "      <td>1</td>\n",
       "      <td>150564</td>\n",
       "    </tr>\n",
       "    <tr>\n",
       "      <th>394</th>\n",
       "      <td>42</td>\n",
       "      <td>1</td>\n",
       "      <td>101738</td>\n",
       "    </tr>\n",
       "    <tr>\n",
       "      <th>395</th>\n",
       "      <td>25</td>\n",
       "      <td>1</td>\n",
       "      <td>95329</td>\n",
       "    </tr>\n",
       "    <tr>\n",
       "      <th>396</th>\n",
       "      <td>8</td>\n",
       "      <td>1</td>\n",
       "      <td>81035</td>\n",
       "    </tr>\n",
       "  </tbody>\n",
       "</table>\n",
       "<p>356 rows × 3 columns</p>\n",
       "</div>"
      ],
      "text/plain": [
       "     yrs.since.phd  sex  salary\n",
       "0               19    1  139750\n",
       "1               20    1  173200\n",
       "2                4    1   79750\n",
       "3               45    1  115000\n",
       "4               40    1  141500\n",
       "..             ...  ...     ...\n",
       "392             33    1  103106\n",
       "393             31    1  150564\n",
       "394             42    1  101738\n",
       "395             25    1   95329\n",
       "396              8    1   81035\n",
       "\n",
       "[356 rows x 3 columns]"
      ]
     },
     "execution_count": 149,
     "metadata": {},
     "output_type": "execute_result"
    }
   ],
   "source": [
    "df.drop([  9,  19,  24,  34,  35,  43,  47,  48,  52,  63,  68,  84,  90,\n",
    "       103, 114, 119, 123, 127, 132, 133, 148, 153, 179, 186, 218, 230,\n",
    "       231, 233, 237, 245, 253, 254, 274, 316, 323, 332, 334, 341, 358,\n",
    "       361, 364], axis=0)"
   ]
  },
  {
   "cell_type": "code",
   "execution_count": 150,
   "id": "17f4d5d9",
   "metadata": {},
   "outputs": [],
   "source": [
    "df_new=df[(z<3).all(axis=1)]"
   ]
  },
  {
   "cell_type": "code",
   "execution_count": 151,
   "id": "eab94e80",
   "metadata": {},
   "outputs": [
    {
     "name": "stdout",
     "output_type": "stream",
     "text": [
      "old dataframe: (397, 3)\n",
      "new dataframe:      yrs.since.phd  sex  salary\n",
      "0               19    1  139750\n",
      "1               20    1  173200\n",
      "2                4    1   79750\n",
      "3               45    1  115000\n",
      "4               40    1  141500\n",
      "..             ...  ...     ...\n",
      "392             33    1  103106\n",
      "393             31    1  150564\n",
      "394             42    1  101738\n",
      "395             25    1   95329\n",
      "396              8    1   81035\n",
      "\n",
      "[356 rows x 3 columns]\n",
      "total dropped rows: 41\n"
     ]
    }
   ],
   "source": [
    "print('old dataframe:', df.shape)\n",
    "print('new dataframe:',df_new)\n",
    "print('total dropped rows:', df.shape[0]-df_new.shape[0])"
   ]
  },
  {
   "cell_type": "markdown",
   "id": "3e2fefda",
   "metadata": {},
   "source": [
    "# Percentage Data Loss"
   ]
  },
  {
   "cell_type": "code",
   "execution_count": 152,
   "id": "ca73e16a",
   "metadata": {},
   "outputs": [
    {
     "name": "stdout",
     "output_type": "stream",
     "text": [
      "10.327455919395465 %\n"
     ]
    }
   ],
   "source": [
    "loss_percent= (397-356)/397*100\n",
    "print(loss_percent, '%')"
   ]
  },
  {
   "cell_type": "code",
   "execution_count": 153,
   "id": "9ee4b7f3",
   "metadata": {},
   "outputs": [
    {
     "data": {
      "text/html": [
       "<div>\n",
       "<style scoped>\n",
       "    .dataframe tbody tr th:only-of-type {\n",
       "        vertical-align: middle;\n",
       "    }\n",
       "\n",
       "    .dataframe tbody tr th {\n",
       "        vertical-align: top;\n",
       "    }\n",
       "\n",
       "    .dataframe thead th {\n",
       "        text-align: right;\n",
       "    }\n",
       "</style>\n",
       "<table border=\"1\" class=\"dataframe\">\n",
       "  <thead>\n",
       "    <tr style=\"text-align: right;\">\n",
       "      <th></th>\n",
       "      <th>yrs.since.phd</th>\n",
       "      <th>sex</th>\n",
       "      <th>salary</th>\n",
       "    </tr>\n",
       "  </thead>\n",
       "  <tbody>\n",
       "    <tr>\n",
       "      <th>0</th>\n",
       "      <td>19</td>\n",
       "      <td>1</td>\n",
       "      <td>139750</td>\n",
       "    </tr>\n",
       "    <tr>\n",
       "      <th>1</th>\n",
       "      <td>20</td>\n",
       "      <td>1</td>\n",
       "      <td>173200</td>\n",
       "    </tr>\n",
       "    <tr>\n",
       "      <th>2</th>\n",
       "      <td>4</td>\n",
       "      <td>1</td>\n",
       "      <td>79750</td>\n",
       "    </tr>\n",
       "    <tr>\n",
       "      <th>3</th>\n",
       "      <td>45</td>\n",
       "      <td>1</td>\n",
       "      <td>115000</td>\n",
       "    </tr>\n",
       "    <tr>\n",
       "      <th>4</th>\n",
       "      <td>40</td>\n",
       "      <td>1</td>\n",
       "      <td>141500</td>\n",
       "    </tr>\n",
       "    <tr>\n",
       "      <th>...</th>\n",
       "      <td>...</td>\n",
       "      <td>...</td>\n",
       "      <td>...</td>\n",
       "    </tr>\n",
       "    <tr>\n",
       "      <th>392</th>\n",
       "      <td>33</td>\n",
       "      <td>1</td>\n",
       "      <td>103106</td>\n",
       "    </tr>\n",
       "    <tr>\n",
       "      <th>393</th>\n",
       "      <td>31</td>\n",
       "      <td>1</td>\n",
       "      <td>150564</td>\n",
       "    </tr>\n",
       "    <tr>\n",
       "      <th>394</th>\n",
       "      <td>42</td>\n",
       "      <td>1</td>\n",
       "      <td>101738</td>\n",
       "    </tr>\n",
       "    <tr>\n",
       "      <th>395</th>\n",
       "      <td>25</td>\n",
       "      <td>1</td>\n",
       "      <td>95329</td>\n",
       "    </tr>\n",
       "    <tr>\n",
       "      <th>396</th>\n",
       "      <td>8</td>\n",
       "      <td>1</td>\n",
       "      <td>81035</td>\n",
       "    </tr>\n",
       "  </tbody>\n",
       "</table>\n",
       "<p>356 rows × 3 columns</p>\n",
       "</div>"
      ],
      "text/plain": [
       "     yrs.since.phd  sex  salary\n",
       "0               19    1  139750\n",
       "1               20    1  173200\n",
       "2                4    1   79750\n",
       "3               45    1  115000\n",
       "4               40    1  141500\n",
       "..             ...  ...     ...\n",
       "392             33    1  103106\n",
       "393             31    1  150564\n",
       "394             42    1  101738\n",
       "395             25    1   95329\n",
       "396              8    1   81035\n",
       "\n",
       "[356 rows x 3 columns]"
      ]
     },
     "execution_count": 153,
     "metadata": {},
     "output_type": "execute_result"
    }
   ],
   "source": [
    "df_new"
   ]
  },
  {
   "cell_type": "code",
   "execution_count": 154,
   "id": "49bf13fe",
   "metadata": {},
   "outputs": [],
   "source": [
    "#independent column\n",
    "x= df_new.iloc[:,:-1]"
   ]
  },
  {
   "cell_type": "code",
   "execution_count": 155,
   "id": "aa393e60",
   "metadata": {},
   "outputs": [],
   "source": [
    "#target column\n",
    "y= df_new.iloc[:,-1]"
   ]
  },
  {
   "cell_type": "markdown",
   "id": "ed8feb25",
   "metadata": {},
   "source": [
    "# Transforming data to remove skewness"
   ]
  },
  {
   "cell_type": "code",
   "execution_count": 156,
   "id": "0cc355d0",
   "metadata": {},
   "outputs": [],
   "source": [
    "from sklearn.preprocessing import power_transform"
   ]
  },
  {
   "cell_type": "code",
   "execution_count": 157,
   "id": "5ab1404f",
   "metadata": {},
   "outputs": [
    {
     "data": {
      "text/plain": [
       "array([[-0.17638176,  0.        ],\n",
       "       [-0.09846357,  0.        ],\n",
       "       [-1.64587535,  0.        ],\n",
       "       [ 1.5333597 ,  0.        ],\n",
       "       [ 1.24215537,  0.        ],\n",
       "       [-1.39448131,  0.        ],\n",
       "       [ 0.61456198,  0.        ],\n",
       "       [ 1.5333597 ,  0.        ],\n",
       "       [-0.02196957,  0.        ],\n",
       "       [-0.77203679,  0.        ],\n",
       "       [-1.27943248,  0.        ],\n",
       "       [-2.11757054,  0.        ],\n",
       "       [-1.94095246,  0.        ],\n",
       "       [-0.09846357,  0.        ],\n",
       "       [-0.77203679,  0.        ],\n",
       "       [-0.17638176,  0.        ],\n",
       "       [ 1.12185707,  0.        ],\n",
       "       [ 1.06081361,  0.        ],\n",
       "       [ 0.68053831,  0.        ],\n",
       "       [ 0.99914485,  0.        ],\n",
       "       [ 0.87383561,  0.        ],\n",
       "       [ 0.19981351,  0.        ],\n",
       "       [-0.02196957,  0.        ],\n",
       "       [ 0.93682723,  0.        ],\n",
       "       [-1.51610109,  0.        ],\n",
       "       [-0.86641429,  0.        ],\n",
       "       [-0.77203679,  0.        ],\n",
       "       [-0.09846357,  0.        ],\n",
       "       [-1.27943248,  0.        ],\n",
       "       [-0.68043215,  0.        ],\n",
       "       [-1.64587535,  0.        ],\n",
       "       [ 0.05318933,  0.        ],\n",
       "       [-1.27943248,  0.        ],\n",
       "       [ 1.30145063,  0.        ],\n",
       "       [-1.06486633,  0.        ],\n",
       "       [ 0.12709302,  0.        ],\n",
       "       [ 0.12709302,  0.        ],\n",
       "       [ 1.24215537,  0.        ],\n",
       "       [-0.17638176,  0.        ],\n",
       "       [ 0.271416  ,  0.        ],\n",
       "       [ 1.24215537,  0.        ],\n",
       "       [-2.11757054,  0.        ],\n",
       "       [ 0.48008238,  0.        ],\n",
       "       [-0.77203679,  0.        ],\n",
       "       [-0.41974557,  0.        ],\n",
       "       [-0.77203679,  0.        ],\n",
       "       [-0.59132892,  0.        ],\n",
       "       [ 0.12709302,  0.        ],\n",
       "       [-1.06486633,  0.        ],\n",
       "       [-0.96389117,  0.        ],\n",
       "       [-1.1698362 ,  0.        ],\n",
       "       [-1.06486633,  0.        ],\n",
       "       [-1.78618715,  0.        ],\n",
       "       [ 0.81014311,  0.        ],\n",
       "       [-1.64587535,  0.        ],\n",
       "       [-1.06486633,  0.        ],\n",
       "       [ 0.05318933,  0.        ],\n",
       "       [ 0.93682723,  0.        ],\n",
       "       [ 0.48008238,  0.        ],\n",
       "       [-0.3369027 ,  0.        ],\n",
       "       [ 1.5333597 ,  0.        ],\n",
       "       [ 0.5477562 ,  0.        ],\n",
       "       [ 0.93682723,  0.        ],\n",
       "       [ 0.48008238,  0.        ],\n",
       "       [-1.1698362 ,  0.        ],\n",
       "       [-0.3369027 ,  0.        ],\n",
       "       [ 0.34195971,  0.        ],\n",
       "       [-1.78618715,  0.        ],\n",
       "       [-1.39448131,  0.        ],\n",
       "       [ 1.418426  ,  0.        ],\n",
       "       [-0.3369027 ,  0.        ],\n",
       "       [ 0.05318933,  0.        ],\n",
       "       [-1.39448131,  0.        ],\n",
       "       [-0.50449837,  0.        ],\n",
       "       [ 1.06081361,  0.        ],\n",
       "       [-1.94095246,  0.        ],\n",
       "       [ 0.271416  ,  0.        ],\n",
       "       [-1.06486633,  0.        ],\n",
       "       [-0.96389117,  0.        ],\n",
       "       [-0.96389117,  0.        ],\n",
       "       [ 1.12185707,  0.        ],\n",
       "       [-0.02196957,  0.        ],\n",
       "       [-1.64587535,  0.        ],\n",
       "       [-0.3369027 ,  0.        ],\n",
       "       [-0.68043215,  0.        ],\n",
       "       [ 0.61456198,  0.        ],\n",
       "       [ 1.30145063,  0.        ],\n",
       "       [ 1.36020168,  0.        ],\n",
       "       [ 0.48008238,  0.        ],\n",
       "       [-0.41974557,  0.        ],\n",
       "       [-0.25582396,  0.        ],\n",
       "       [ 0.68053831,  0.        ],\n",
       "       [-0.86641429,  0.        ],\n",
       "       [-0.96389117,  0.        ],\n",
       "       [-0.50449837,  0.        ],\n",
       "       [ 1.24215537,  0.        ],\n",
       "       [-0.09846357,  0.        ],\n",
       "       [-0.17638176,  0.        ],\n",
       "       [-1.78618715,  0.        ],\n",
       "       [ 1.06081361,  0.        ],\n",
       "       [-0.02196957,  0.        ],\n",
       "       [ 0.61456198,  0.        ],\n",
       "       [ 1.18229739,  0.        ],\n",
       "       [-1.64587535,  0.        ],\n",
       "       [-0.59132892,  0.        ],\n",
       "       [ 0.74572096,  0.        ],\n",
       "       [ 0.19981351,  0.        ],\n",
       "       [ 0.19981351,  0.        ],\n",
       "       [ 2.02830716,  0.        ],\n",
       "       [ 0.48008238,  0.        ],\n",
       "       [ 0.74572096,  0.        ],\n",
       "       [-1.64587535,  0.        ],\n",
       "       [-0.86641429,  0.        ],\n",
       "       [ 2.13390737,  0.        ],\n",
       "       [ 0.93682723,  0.        ],\n",
       "       [-0.09846357,  0.        ],\n",
       "       [-0.41974557,  0.        ],\n",
       "       [-0.3369027 ,  0.        ],\n",
       "       [-0.96389117,  0.        ],\n",
       "       [-0.02196957,  0.        ],\n",
       "       [-0.59132892,  0.        ],\n",
       "       [-0.50449837,  0.        ],\n",
       "       [-0.17638176,  0.        ],\n",
       "       [-1.78618715,  0.        ],\n",
       "       [ 0.41149869,  0.        ],\n",
       "       [ 0.48008238,  0.        ],\n",
       "       [-1.64587535,  0.        ],\n",
       "       [ 0.41149869,  0.        ],\n",
       "       [-1.64587535,  0.        ],\n",
       "       [-0.59132892,  0.        ],\n",
       "       [-1.64587535,  0.        ],\n",
       "       [-0.02196957,  0.        ],\n",
       "       [-1.64587535,  0.        ],\n",
       "       [-0.02196957,  0.        ],\n",
       "       [-0.77203679,  0.        ],\n",
       "       [-2.11757054,  0.        ],\n",
       "       [-1.39448131,  0.        ],\n",
       "       [-0.50449837,  0.        ],\n",
       "       [-1.94095246,  0.        ],\n",
       "       [ 0.34195971,  0.        ],\n",
       "       [ 0.05318933,  0.        ],\n",
       "       [-1.78618715,  0.        ],\n",
       "       [-2.11757054,  0.        ],\n",
       "       [-0.02196957,  0.        ],\n",
       "       [-0.41974557,  0.        ],\n",
       "       [-0.25582396,  0.        ],\n",
       "       [-1.1698362 ,  0.        ],\n",
       "       [ 0.271416  ,  0.        ],\n",
       "       [-1.51610109,  0.        ],\n",
       "       [-0.17638176,  0.        ],\n",
       "       [ 1.06081361,  0.        ],\n",
       "       [-0.09846357,  0.        ],\n",
       "       [-0.3369027 ,  0.        ],\n",
       "       [ 0.48008238,  0.        ],\n",
       "       [-0.96389117,  0.        ],\n",
       "       [-0.68043215,  0.        ],\n",
       "       [ 0.41149869,  0.        ],\n",
       "       [-0.86641429,  0.        ],\n",
       "       [-0.25582396,  0.        ],\n",
       "       [-1.1698362 ,  0.        ],\n",
       "       [ 0.34195971,  0.        ],\n",
       "       [ 0.12709302,  0.        ],\n",
       "       [ 0.81014311,  0.        ],\n",
       "       [-0.25582396,  0.        ],\n",
       "       [ 0.48008238,  0.        ],\n",
       "       [ 0.271416  ,  0.        ],\n",
       "       [ 0.05318933,  0.        ],\n",
       "       [ 1.418426  ,  0.        ],\n",
       "       [-0.17638176,  0.        ],\n",
       "       [-0.17638176,  0.        ],\n",
       "       [ 1.70219609,  0.        ],\n",
       "       [-1.06486633,  0.        ],\n",
       "       [-1.64587535,  0.        ],\n",
       "       [-1.64587535,  0.        ],\n",
       "       [ 0.87383561,  0.        ],\n",
       "       [ 1.12185707,  0.        ],\n",
       "       [-1.64587535,  0.        ],\n",
       "       [ 1.24215537,  0.        ],\n",
       "       [ 0.48008238,  0.        ],\n",
       "       [-0.3369027 ,  0.        ],\n",
       "       [-0.17638176,  0.        ],\n",
       "       [-0.02196957,  0.        ],\n",
       "       [ 0.93682723,  0.        ],\n",
       "       [-0.25582396,  0.        ],\n",
       "       [-1.27943248,  0.        ],\n",
       "       [-0.09846357,  0.        ],\n",
       "       [-1.64587535,  0.        ],\n",
       "       [ 1.18229739,  0.        ],\n",
       "       [-0.50449837,  0.        ],\n",
       "       [ 0.34195971,  0.        ],\n",
       "       [-0.86641429,  0.        ],\n",
       "       [-0.41974557,  0.        ],\n",
       "       [-0.50449837,  0.        ],\n",
       "       [ 0.5477562 ,  0.        ],\n",
       "       [-0.68043215,  0.        ],\n",
       "       [-0.02196957,  0.        ],\n",
       "       [ 0.12709302,  0.        ],\n",
       "       [-0.68043215,  0.        ],\n",
       "       [ 0.87383561,  0.        ],\n",
       "       [ 1.12185707,  0.        ],\n",
       "       [-0.09846357,  0.        ],\n",
       "       [-1.78618715,  0.        ],\n",
       "       [-1.06486633,  0.        ],\n",
       "       [-0.41974557,  0.        ],\n",
       "       [ 1.18229739,  0.        ],\n",
       "       [ 1.12185707,  0.        ],\n",
       "       [-1.1698362 ,  0.        ],\n",
       "       [ 0.48008238,  0.        ],\n",
       "       [ 0.271416  ,  0.        ],\n",
       "       [ 1.59009961,  0.        ],\n",
       "       [-0.17638176,  0.        ],\n",
       "       [-1.51610109,  0.        ],\n",
       "       [ 0.68053831,  0.        ],\n",
       "       [ 1.12185707,  0.        ],\n",
       "       [ 0.12709302,  0.        ],\n",
       "       [-0.17638176,  0.        ],\n",
       "       [ 0.61456198,  0.        ],\n",
       "       [-0.02196957,  0.        ],\n",
       "       [ 0.48008238,  0.        ],\n",
       "       [ 0.5477562 ,  0.        ],\n",
       "       [ 1.18229739,  0.        ],\n",
       "       [-0.09846357,  0.        ],\n",
       "       [ 0.68053831,  0.        ],\n",
       "       [-0.77203679,  0.        ],\n",
       "       [ 0.05318933,  0.        ],\n",
       "       [ 0.61456198,  0.        ],\n",
       "       [-1.06486633,  0.        ],\n",
       "       [ 0.74572096,  0.        ],\n",
       "       [ 1.30145063,  0.        ],\n",
       "       [ 1.5333597 ,  0.        ],\n",
       "       [ 0.68053831,  0.        ],\n",
       "       [ 0.68053831,  0.        ],\n",
       "       [ 1.06081361,  0.        ],\n",
       "       [ 0.99914485,  0.        ],\n",
       "       [ 1.418426  ,  0.        ],\n",
       "       [-0.59132892,  0.        ],\n",
       "       [ 1.64637394,  0.        ],\n",
       "       [-0.68043215,  0.        ],\n",
       "       [ 1.36020168,  0.        ],\n",
       "       [ 1.36020168,  0.        ],\n",
       "       [-1.64587535,  0.        ],\n",
       "       [-1.1698362 ,  0.        ],\n",
       "       [-0.77203679,  0.        ],\n",
       "       [ 1.92120913,  0.        ],\n",
       "       [ 0.68053831,  0.        ],\n",
       "       [ 0.19981351,  0.        ],\n",
       "       [ 1.59009961,  0.        ],\n",
       "       [ 1.18229739,  0.        ],\n",
       "       [ 1.06081361,  0.        ],\n",
       "       [ 1.86707403,  0.        ],\n",
       "       [ 1.5333597 ,  0.        ],\n",
       "       [-1.1698362 ,  0.        ],\n",
       "       [ 1.75757882,  0.        ],\n",
       "       [ 0.48008238,  0.        ],\n",
       "       [-1.94095246,  0.        ],\n",
       "       [ 0.5477562 ,  0.        ],\n",
       "       [-1.1698362 ,  0.        ],\n",
       "       [ 0.81014311,  0.        ],\n",
       "       [ 0.74572096,  0.        ],\n",
       "       [ 1.18229739,  0.        ],\n",
       "       [-0.86641429,  0.        ],\n",
       "       [-0.17638176,  0.        ],\n",
       "       [ 1.24215537,  0.        ],\n",
       "       [-0.25582396,  0.        ],\n",
       "       [-0.3369027 ,  0.        ],\n",
       "       [ 1.75757882,  0.        ],\n",
       "       [ 1.5333597 ,  0.        ],\n",
       "       [ 1.18229739,  0.        ],\n",
       "       [ 0.41149869,  0.        ],\n",
       "       [ 0.48008238,  0.        ],\n",
       "       [-0.59132892,  0.        ],\n",
       "       [ 1.59009961,  0.        ],\n",
       "       [ 0.81014311,  0.        ],\n",
       "       [-1.27943248,  0.        ],\n",
       "       [ 0.68053831,  0.        ],\n",
       "       [-1.51610109,  0.        ],\n",
       "       [ 0.05318933,  0.        ],\n",
       "       [-0.09846357,  0.        ],\n",
       "       [-0.59132892,  0.        ],\n",
       "       [ 0.5477562 ,  0.        ],\n",
       "       [ 0.93682723,  0.        ],\n",
       "       [ 0.05318933,  0.        ],\n",
       "       [-1.39448131,  0.        ],\n",
       "       [ 1.59009961,  0.        ],\n",
       "       [-0.41974557,  0.        ],\n",
       "       [-0.41974557,  0.        ],\n",
       "       [ 0.19981351,  0.        ],\n",
       "       [-1.06486633,  0.        ],\n",
       "       [-0.68043215,  0.        ],\n",
       "       [ 0.61456198,  0.        ],\n",
       "       [-1.1698362 ,  0.        ],\n",
       "       [ 0.12709302,  0.        ],\n",
       "       [ 1.06081361,  0.        ],\n",
       "       [-0.96389117,  0.        ],\n",
       "       [ 0.12709302,  0.        ],\n",
       "       [ 1.75757882,  0.        ],\n",
       "       [-0.09846357,  0.        ],\n",
       "       [ 0.81014311,  0.        ],\n",
       "       [ 0.99914485,  0.        ],\n",
       "       [ 0.93682723,  0.        ],\n",
       "       [-0.68043215,  0.        ],\n",
       "       [ 0.74572096,  0.        ],\n",
       "       [ 1.06081361,  0.        ],\n",
       "       [-0.68043215,  0.        ],\n",
       "       [ 1.12185707,  0.        ],\n",
       "       [ 0.68053831,  0.        ],\n",
       "       [ 0.74572096,  0.        ],\n",
       "       [-0.50449837,  0.        ],\n",
       "       [ 1.30145063,  0.        ],\n",
       "       [ 1.18229739,  0.        ],\n",
       "       [-1.64587535,  0.        ],\n",
       "       [ 0.41149869,  0.        ],\n",
       "       [ 2.13390737,  0.        ],\n",
       "       [ 1.12185707,  0.        ],\n",
       "       [ 0.34195971,  0.        ],\n",
       "       [ 0.05318933,  0.        ],\n",
       "       [-1.1698362 ,  0.        ],\n",
       "       [ 0.271416  ,  0.        ],\n",
       "       [ 1.75757882,  0.        ],\n",
       "       [ 1.18229739,  0.        ],\n",
       "       [-0.86641429,  0.        ],\n",
       "       [-0.59132892,  0.        ],\n",
       "       [ 0.61456198,  0.        ],\n",
       "       [-0.09846357,  0.        ],\n",
       "       [ 1.418426  ,  0.        ],\n",
       "       [-0.50449837,  0.        ],\n",
       "       [-0.96389117,  0.        ],\n",
       "       [ 0.93682723,  0.        ],\n",
       "       [ 0.81014311,  0.        ],\n",
       "       [-0.68043215,  0.        ],\n",
       "       [ 0.12709302,  0.        ],\n",
       "       [-0.77203679,  0.        ],\n",
       "       [ 0.61456198,  0.        ],\n",
       "       [ 0.41149869,  0.        ],\n",
       "       [ 0.48008238,  0.        ],\n",
       "       [-1.64587535,  0.        ],\n",
       "       [-1.39448131,  0.        ],\n",
       "       [ 1.12185707,  0.        ],\n",
       "       [-0.86641429,  0.        ],\n",
       "       [-1.1698362 ,  0.        ],\n",
       "       [ 0.41149869,  0.        ],\n",
       "       [-1.1698362 ,  0.        ],\n",
       "       [ 1.47614012,  0.        ],\n",
       "       [ 0.41149869,  0.        ],\n",
       "       [-0.50449837,  0.        ],\n",
       "       [ 0.5477562 ,  0.        ],\n",
       "       [ 0.5477562 ,  0.        ],\n",
       "       [ 1.12185707,  0.        ],\n",
       "       [ 0.81014311,  0.        ],\n",
       "       [ 1.24215537,  0.        ],\n",
       "       [ 0.61456198,  0.        ],\n",
       "       [ 0.81014311,  0.        ],\n",
       "       [ 0.68053831,  0.        ],\n",
       "       [ 1.36020168,  0.        ],\n",
       "       [ 0.271416  ,  0.        ],\n",
       "       [-1.1698362 ,  0.        ]])"
      ]
     },
     "execution_count": 157,
     "metadata": {},
     "output_type": "execute_result"
    }
   ],
   "source": [
    "x= power_transform(x, method='yeo-johnson')\n",
    "x"
   ]
  },
  {
   "cell_type": "code",
   "execution_count": 158,
   "id": "63f029bb",
   "metadata": {},
   "outputs": [
    {
     "data": {
      "text/plain": [
       "array([[-0.17638176,  0.        ],\n",
       "       [-0.09846357,  0.        ],\n",
       "       [-1.64587535,  0.        ],\n",
       "       [ 1.5333597 ,  0.        ],\n",
       "       [ 1.24215537,  0.        ],\n",
       "       [-1.39448131,  0.        ],\n",
       "       [ 0.61456198,  0.        ],\n",
       "       [ 1.5333597 ,  0.        ],\n",
       "       [-0.02196957,  0.        ],\n",
       "       [-0.77203679,  0.        ],\n",
       "       [-1.27943248,  0.        ],\n",
       "       [-2.11757054,  0.        ],\n",
       "       [-1.94095246,  0.        ],\n",
       "       [-0.09846357,  0.        ],\n",
       "       [-0.77203679,  0.        ],\n",
       "       [-0.17638176,  0.        ],\n",
       "       [ 1.12185707,  0.        ],\n",
       "       [ 1.06081361,  0.        ],\n",
       "       [ 0.68053831,  0.        ],\n",
       "       [ 0.99914485,  0.        ],\n",
       "       [ 0.87383561,  0.        ],\n",
       "       [ 0.19981351,  0.        ],\n",
       "       [-0.02196957,  0.        ],\n",
       "       [ 0.93682723,  0.        ],\n",
       "       [-1.51610109,  0.        ],\n",
       "       [-0.86641429,  0.        ],\n",
       "       [-0.77203679,  0.        ],\n",
       "       [-0.09846357,  0.        ],\n",
       "       [-1.27943248,  0.        ],\n",
       "       [-0.68043215,  0.        ],\n",
       "       [-1.64587535,  0.        ],\n",
       "       [ 0.05318933,  0.        ],\n",
       "       [-1.27943248,  0.        ],\n",
       "       [ 1.30145063,  0.        ],\n",
       "       [-1.06486633,  0.        ],\n",
       "       [ 0.12709302,  0.        ],\n",
       "       [ 0.12709302,  0.        ],\n",
       "       [ 1.24215537,  0.        ],\n",
       "       [-0.17638176,  0.        ],\n",
       "       [ 0.271416  ,  0.        ],\n",
       "       [ 1.24215537,  0.        ],\n",
       "       [-2.11757054,  0.        ],\n",
       "       [ 0.48008238,  0.        ],\n",
       "       [-0.77203679,  0.        ],\n",
       "       [-0.41974557,  0.        ],\n",
       "       [-0.77203679,  0.        ],\n",
       "       [-0.59132892,  0.        ],\n",
       "       [ 0.12709302,  0.        ],\n",
       "       [-1.06486633,  0.        ],\n",
       "       [-0.96389117,  0.        ],\n",
       "       [-1.1698362 ,  0.        ],\n",
       "       [-1.06486633,  0.        ],\n",
       "       [-1.78618715,  0.        ],\n",
       "       [ 0.81014311,  0.        ],\n",
       "       [-1.64587535,  0.        ],\n",
       "       [-1.06486633,  0.        ],\n",
       "       [ 0.05318933,  0.        ],\n",
       "       [ 0.93682723,  0.        ],\n",
       "       [ 0.48008238,  0.        ],\n",
       "       [-0.3369027 ,  0.        ],\n",
       "       [ 1.5333597 ,  0.        ],\n",
       "       [ 0.5477562 ,  0.        ],\n",
       "       [ 0.93682723,  0.        ],\n",
       "       [ 0.48008238,  0.        ],\n",
       "       [-1.1698362 ,  0.        ],\n",
       "       [-0.3369027 ,  0.        ],\n",
       "       [ 0.34195971,  0.        ],\n",
       "       [-1.78618715,  0.        ],\n",
       "       [-1.39448131,  0.        ],\n",
       "       [ 1.418426  ,  0.        ],\n",
       "       [-0.3369027 ,  0.        ],\n",
       "       [ 0.05318933,  0.        ],\n",
       "       [-1.39448131,  0.        ],\n",
       "       [-0.50449837,  0.        ],\n",
       "       [ 1.06081361,  0.        ],\n",
       "       [-1.94095246,  0.        ],\n",
       "       [ 0.271416  ,  0.        ],\n",
       "       [-1.06486633,  0.        ],\n",
       "       [-0.96389117,  0.        ],\n",
       "       [-0.96389117,  0.        ],\n",
       "       [ 1.12185707,  0.        ],\n",
       "       [-0.02196957,  0.        ],\n",
       "       [-1.64587535,  0.        ],\n",
       "       [-0.3369027 ,  0.        ],\n",
       "       [-0.68043215,  0.        ],\n",
       "       [ 0.61456198,  0.        ],\n",
       "       [ 1.30145063,  0.        ],\n",
       "       [ 1.36020168,  0.        ],\n",
       "       [ 0.48008238,  0.        ],\n",
       "       [-0.41974557,  0.        ],\n",
       "       [-0.25582396,  0.        ],\n",
       "       [ 0.68053831,  0.        ],\n",
       "       [-0.86641429,  0.        ],\n",
       "       [-0.96389117,  0.        ],\n",
       "       [-0.50449837,  0.        ],\n",
       "       [ 1.24215537,  0.        ],\n",
       "       [-0.09846357,  0.        ],\n",
       "       [-0.17638176,  0.        ],\n",
       "       [-1.78618715,  0.        ],\n",
       "       [ 1.06081361,  0.        ],\n",
       "       [-0.02196957,  0.        ],\n",
       "       [ 0.61456198,  0.        ],\n",
       "       [ 1.18229739,  0.        ],\n",
       "       [-1.64587535,  0.        ],\n",
       "       [-0.59132892,  0.        ],\n",
       "       [ 0.74572096,  0.        ],\n",
       "       [ 0.19981351,  0.        ],\n",
       "       [ 0.19981351,  0.        ],\n",
       "       [ 2.02830716,  0.        ],\n",
       "       [ 0.48008238,  0.        ],\n",
       "       [ 0.74572096,  0.        ],\n",
       "       [-1.64587535,  0.        ],\n",
       "       [-0.86641429,  0.        ],\n",
       "       [ 2.13390737,  0.        ],\n",
       "       [ 0.93682723,  0.        ],\n",
       "       [-0.09846357,  0.        ],\n",
       "       [-0.41974557,  0.        ],\n",
       "       [-0.3369027 ,  0.        ],\n",
       "       [-0.96389117,  0.        ],\n",
       "       [-0.02196957,  0.        ],\n",
       "       [-0.59132892,  0.        ],\n",
       "       [-0.50449837,  0.        ],\n",
       "       [-0.17638176,  0.        ],\n",
       "       [-1.78618715,  0.        ],\n",
       "       [ 0.41149869,  0.        ],\n",
       "       [ 0.48008238,  0.        ],\n",
       "       [-1.64587535,  0.        ],\n",
       "       [ 0.41149869,  0.        ],\n",
       "       [-1.64587535,  0.        ],\n",
       "       [-0.59132892,  0.        ],\n",
       "       [-1.64587535,  0.        ],\n",
       "       [-0.02196957,  0.        ],\n",
       "       [-1.64587535,  0.        ],\n",
       "       [-0.02196957,  0.        ],\n",
       "       [-0.77203679,  0.        ],\n",
       "       [-2.11757054,  0.        ],\n",
       "       [-1.39448131,  0.        ],\n",
       "       [-0.50449837,  0.        ],\n",
       "       [-1.94095246,  0.        ],\n",
       "       [ 0.34195971,  0.        ],\n",
       "       [ 0.05318933,  0.        ],\n",
       "       [-1.78618715,  0.        ],\n",
       "       [-2.11757054,  0.        ],\n",
       "       [-0.02196957,  0.        ],\n",
       "       [-0.41974557,  0.        ],\n",
       "       [-0.25582396,  0.        ],\n",
       "       [-1.1698362 ,  0.        ],\n",
       "       [ 0.271416  ,  0.        ],\n",
       "       [-1.51610109,  0.        ],\n",
       "       [-0.17638176,  0.        ],\n",
       "       [ 1.06081361,  0.        ],\n",
       "       [-0.09846357,  0.        ],\n",
       "       [-0.3369027 ,  0.        ],\n",
       "       [ 0.48008238,  0.        ],\n",
       "       [-0.96389117,  0.        ],\n",
       "       [-0.68043215,  0.        ],\n",
       "       [ 0.41149869,  0.        ],\n",
       "       [-0.86641429,  0.        ],\n",
       "       [-0.25582396,  0.        ],\n",
       "       [-1.1698362 ,  0.        ],\n",
       "       [ 0.34195971,  0.        ],\n",
       "       [ 0.12709302,  0.        ],\n",
       "       [ 0.81014311,  0.        ],\n",
       "       [-0.25582396,  0.        ],\n",
       "       [ 0.48008238,  0.        ],\n",
       "       [ 0.271416  ,  0.        ],\n",
       "       [ 0.05318933,  0.        ],\n",
       "       [ 1.418426  ,  0.        ],\n",
       "       [-0.17638176,  0.        ],\n",
       "       [-0.17638176,  0.        ],\n",
       "       [ 1.70219609,  0.        ],\n",
       "       [-1.06486633,  0.        ],\n",
       "       [-1.64587535,  0.        ],\n",
       "       [-1.64587535,  0.        ],\n",
       "       [ 0.87383561,  0.        ],\n",
       "       [ 1.12185707,  0.        ],\n",
       "       [-1.64587535,  0.        ],\n",
       "       [ 1.24215537,  0.        ],\n",
       "       [ 0.48008238,  0.        ],\n",
       "       [-0.3369027 ,  0.        ],\n",
       "       [-0.17638176,  0.        ],\n",
       "       [-0.02196957,  0.        ],\n",
       "       [ 0.93682723,  0.        ],\n",
       "       [-0.25582396,  0.        ],\n",
       "       [-1.27943248,  0.        ],\n",
       "       [-0.09846357,  0.        ],\n",
       "       [-1.64587535,  0.        ],\n",
       "       [ 1.18229739,  0.        ],\n",
       "       [-0.50449837,  0.        ],\n",
       "       [ 0.34195971,  0.        ],\n",
       "       [-0.86641429,  0.        ],\n",
       "       [-0.41974557,  0.        ],\n",
       "       [-0.50449837,  0.        ],\n",
       "       [ 0.5477562 ,  0.        ],\n",
       "       [-0.68043215,  0.        ],\n",
       "       [-0.02196957,  0.        ],\n",
       "       [ 0.12709302,  0.        ],\n",
       "       [-0.68043215,  0.        ],\n",
       "       [ 0.87383561,  0.        ],\n",
       "       [ 1.12185707,  0.        ],\n",
       "       [-0.09846357,  0.        ],\n",
       "       [-1.78618715,  0.        ],\n",
       "       [-1.06486633,  0.        ],\n",
       "       [-0.41974557,  0.        ],\n",
       "       [ 1.18229739,  0.        ],\n",
       "       [ 1.12185707,  0.        ],\n",
       "       [-1.1698362 ,  0.        ],\n",
       "       [ 0.48008238,  0.        ],\n",
       "       [ 0.271416  ,  0.        ],\n",
       "       [ 1.59009961,  0.        ],\n",
       "       [-0.17638176,  0.        ],\n",
       "       [-1.51610109,  0.        ],\n",
       "       [ 0.68053831,  0.        ],\n",
       "       [ 1.12185707,  0.        ],\n",
       "       [ 0.12709302,  0.        ],\n",
       "       [-0.17638176,  0.        ],\n",
       "       [ 0.61456198,  0.        ],\n",
       "       [-0.02196957,  0.        ],\n",
       "       [ 0.48008238,  0.        ],\n",
       "       [ 0.5477562 ,  0.        ],\n",
       "       [ 1.18229739,  0.        ],\n",
       "       [-0.09846357,  0.        ],\n",
       "       [ 0.68053831,  0.        ],\n",
       "       [-0.77203679,  0.        ],\n",
       "       [ 0.05318933,  0.        ],\n",
       "       [ 0.61456198,  0.        ],\n",
       "       [-1.06486633,  0.        ],\n",
       "       [ 0.74572096,  0.        ],\n",
       "       [ 1.30145063,  0.        ],\n",
       "       [ 1.5333597 ,  0.        ],\n",
       "       [ 0.68053831,  0.        ],\n",
       "       [ 0.68053831,  0.        ],\n",
       "       [ 1.06081361,  0.        ],\n",
       "       [ 0.99914485,  0.        ],\n",
       "       [ 1.418426  ,  0.        ],\n",
       "       [-0.59132892,  0.        ],\n",
       "       [ 1.64637394,  0.        ],\n",
       "       [-0.68043215,  0.        ],\n",
       "       [ 1.36020168,  0.        ],\n",
       "       [ 1.36020168,  0.        ],\n",
       "       [-1.64587535,  0.        ],\n",
       "       [-1.1698362 ,  0.        ],\n",
       "       [-0.77203679,  0.        ],\n",
       "       [ 1.92120913,  0.        ],\n",
       "       [ 0.68053831,  0.        ],\n",
       "       [ 0.19981351,  0.        ],\n",
       "       [ 1.59009961,  0.        ],\n",
       "       [ 1.18229739,  0.        ],\n",
       "       [ 1.06081361,  0.        ],\n",
       "       [ 1.86707403,  0.        ],\n",
       "       [ 1.5333597 ,  0.        ],\n",
       "       [-1.1698362 ,  0.        ],\n",
       "       [ 1.75757882,  0.        ],\n",
       "       [ 0.48008238,  0.        ],\n",
       "       [-1.94095246,  0.        ],\n",
       "       [ 0.5477562 ,  0.        ],\n",
       "       [-1.1698362 ,  0.        ],\n",
       "       [ 0.81014311,  0.        ],\n",
       "       [ 0.74572096,  0.        ],\n",
       "       [ 1.18229739,  0.        ],\n",
       "       [-0.86641429,  0.        ],\n",
       "       [-0.17638176,  0.        ],\n",
       "       [ 1.24215537,  0.        ],\n",
       "       [-0.25582396,  0.        ],\n",
       "       [-0.3369027 ,  0.        ],\n",
       "       [ 1.75757882,  0.        ],\n",
       "       [ 1.5333597 ,  0.        ],\n",
       "       [ 1.18229739,  0.        ],\n",
       "       [ 0.41149869,  0.        ],\n",
       "       [ 0.48008238,  0.        ],\n",
       "       [-0.59132892,  0.        ],\n",
       "       [ 1.59009961,  0.        ],\n",
       "       [ 0.81014311,  0.        ],\n",
       "       [-1.27943248,  0.        ],\n",
       "       [ 0.68053831,  0.        ],\n",
       "       [-1.51610109,  0.        ],\n",
       "       [ 0.05318933,  0.        ],\n",
       "       [-0.09846357,  0.        ],\n",
       "       [-0.59132892,  0.        ],\n",
       "       [ 0.5477562 ,  0.        ],\n",
       "       [ 0.93682723,  0.        ],\n",
       "       [ 0.05318933,  0.        ],\n",
       "       [-1.39448131,  0.        ],\n",
       "       [ 1.59009961,  0.        ],\n",
       "       [-0.41974557,  0.        ],\n",
       "       [-0.41974557,  0.        ],\n",
       "       [ 0.19981351,  0.        ],\n",
       "       [-1.06486633,  0.        ],\n",
       "       [-0.68043215,  0.        ],\n",
       "       [ 0.61456198,  0.        ],\n",
       "       [-1.1698362 ,  0.        ],\n",
       "       [ 0.12709302,  0.        ],\n",
       "       [ 1.06081361,  0.        ],\n",
       "       [-0.96389117,  0.        ],\n",
       "       [ 0.12709302,  0.        ],\n",
       "       [ 1.75757882,  0.        ],\n",
       "       [-0.09846357,  0.        ],\n",
       "       [ 0.81014311,  0.        ],\n",
       "       [ 0.99914485,  0.        ],\n",
       "       [ 0.93682723,  0.        ],\n",
       "       [-0.68043215,  0.        ],\n",
       "       [ 0.74572096,  0.        ],\n",
       "       [ 1.06081361,  0.        ],\n",
       "       [-0.68043215,  0.        ],\n",
       "       [ 1.12185707,  0.        ],\n",
       "       [ 0.68053831,  0.        ],\n",
       "       [ 0.74572096,  0.        ],\n",
       "       [-0.50449837,  0.        ],\n",
       "       [ 1.30145063,  0.        ],\n",
       "       [ 1.18229739,  0.        ],\n",
       "       [-1.64587535,  0.        ],\n",
       "       [ 0.41149869,  0.        ],\n",
       "       [ 2.13390737,  0.        ],\n",
       "       [ 1.12185707,  0.        ],\n",
       "       [ 0.34195971,  0.        ],\n",
       "       [ 0.05318933,  0.        ],\n",
       "       [-1.1698362 ,  0.        ],\n",
       "       [ 0.271416  ,  0.        ],\n",
       "       [ 1.75757882,  0.        ],\n",
       "       [ 1.18229739,  0.        ],\n",
       "       [-0.86641429,  0.        ],\n",
       "       [-0.59132892,  0.        ],\n",
       "       [ 0.61456198,  0.        ],\n",
       "       [-0.09846357,  0.        ],\n",
       "       [ 1.418426  ,  0.        ],\n",
       "       [-0.50449837,  0.        ],\n",
       "       [-0.96389117,  0.        ],\n",
       "       [ 0.93682723,  0.        ],\n",
       "       [ 0.81014311,  0.        ],\n",
       "       [-0.68043215,  0.        ],\n",
       "       [ 0.12709302,  0.        ],\n",
       "       [-0.77203679,  0.        ],\n",
       "       [ 0.61456198,  0.        ],\n",
       "       [ 0.41149869,  0.        ],\n",
       "       [ 0.48008238,  0.        ],\n",
       "       [-1.64587535,  0.        ],\n",
       "       [-1.39448131,  0.        ],\n",
       "       [ 1.12185707,  0.        ],\n",
       "       [-0.86641429,  0.        ],\n",
       "       [-1.1698362 ,  0.        ],\n",
       "       [ 0.41149869,  0.        ],\n",
       "       [-1.1698362 ,  0.        ],\n",
       "       [ 1.47614012,  0.        ],\n",
       "       [ 0.41149869,  0.        ],\n",
       "       [-0.50449837,  0.        ],\n",
       "       [ 0.5477562 ,  0.        ],\n",
       "       [ 0.5477562 ,  0.        ],\n",
       "       [ 1.12185707,  0.        ],\n",
       "       [ 0.81014311,  0.        ],\n",
       "       [ 1.24215537,  0.        ],\n",
       "       [ 0.61456198,  0.        ],\n",
       "       [ 0.81014311,  0.        ],\n",
       "       [ 0.68053831,  0.        ],\n",
       "       [ 1.36020168,  0.        ],\n",
       "       [ 0.271416  ,  0.        ],\n",
       "       [-1.1698362 ,  0.        ]])"
      ]
     },
     "execution_count": 158,
     "metadata": {},
     "output_type": "execute_result"
    }
   ],
   "source": [
    "from sklearn.preprocessing import StandardScaler\n",
    "sc= StandardScaler()\n",
    "x= sc.fit_transform(x)\n",
    "x"
   ]
  },
  {
   "cell_type": "code",
   "execution_count": 159,
   "id": "7b28f4e5",
   "metadata": {},
   "outputs": [],
   "source": [
    "from sklearn.linear_model import LogisticRegression\n",
    "from sklearn.model_selection import train_test_split\n",
    "from sklearn.metrics import mean_squared_error,mean_absolute_error\n",
    "lr=LinearRegression()"
   ]
  },
  {
   "cell_type": "code",
   "execution_count": 160,
   "id": "2e6d9d4f",
   "metadata": {},
   "outputs": [],
   "source": [
    "x_train,x_test,y_train,y_test= train_test_split(x,y,test_size=.33,random_state=42)"
   ]
  },
  {
   "cell_type": "code",
   "execution_count": 128,
   "id": "2c3246b5",
   "metadata": {},
   "outputs": [
    {
     "name": "stdout",
     "output_type": "stream",
     "text": [
      "error:\n",
      "Mean absolute error: 21921.15413868124\n",
      "Mean Squared error: 811689642.1165358\n",
      "Root Mean Squared error: 28490.167463820493\n"
     ]
    }
   ],
   "source": [
    "print('error:')\n",
    "print('Mean absolute error:', mean_absolute_error(y_test,pred))\n",
    "print('Mean Squared error:', mean_squared_error(y_test,pred))\n",
    "print('Root Mean Squared error:', np.sqrt(mean_squared_error(y_test,pred)))"
   ]
  },
  {
   "cell_type": "code",
   "execution_count": 124,
   "id": "e9e783d9",
   "metadata": {},
   "outputs": [
    {
     "name": "stdout",
     "output_type": "stream",
     "text": [
      "0.14858348708731706\n"
     ]
    }
   ],
   "source": [
    "#r2 score--> coefficient of determination\n",
    "#is the proportion of the variance in the dependent variable that is predictable from the independent variable(s)\n",
    "#ie, change coming in y whenever x is changed\n",
    "from sklearn.metrics import r2_score\n",
    "print(r2_score(y_test,pred))"
   ]
  },
  {
   "cell_type": "code",
   "execution_count": null,
   "id": "dc852383",
   "metadata": {},
   "outputs": [],
   "source": []
  }
 ],
 "metadata": {
  "kernelspec": {
   "display_name": "Python 3",
   "language": "python",
   "name": "python3"
  },
  "language_info": {
   "codemirror_mode": {
    "name": "ipython",
    "version": 3
   },
   "file_extension": ".py",
   "mimetype": "text/x-python",
   "name": "python",
   "nbconvert_exporter": "python",
   "pygments_lexer": "ipython3",
   "version": "3.8.8"
  }
 },
 "nbformat": 4,
 "nbformat_minor": 5
}
